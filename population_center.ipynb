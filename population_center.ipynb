{
 "cells": [
  {
   "cell_type": "markdown",
   "metadata": {},
   "source": [
    "# Norwegian Population Center\n",
    "This notebook uses data about population of Norwegian municipalities and the location of administrative services in the municipalities to calculate a geographic center of the country weighted by population."
   ]
  },
  {
   "cell_type": "markdown",
   "metadata": {},
   "source": [
    "We begin by importing necessary packages."
   ]
  },
  {
   "cell_type": "code",
   "execution_count": 84,
   "metadata": {},
   "outputs": [],
   "source": [
    "import pandas as pd\n",
    "import utm"
   ]
  },
  {
   "cell_type": "markdown",
   "metadata": {},
   "source": [
    "We then load the data, and have look at the first few rows."
   ]
  },
  {
   "cell_type": "code",
   "execution_count": 9,
   "metadata": {},
   "outputs": [],
   "source": [
    "population_data = pd.read_csv('data/befolkning.csv', sep=';', decimal=',', usecols=[i for i in range(4)])"
   ]
  },
  {
   "cell_type": "code",
   "execution_count": 10,
   "metadata": {},
   "outputs": [
    {
     "data": {
      "text/html": [
       "<div>\n",
       "<style scoped>\n",
       "    .dataframe tbody tr th:only-of-type {\n",
       "        vertical-align: middle;\n",
       "    }\n",
       "\n",
       "    .dataframe tbody tr th {\n",
       "        vertical-align: top;\n",
       "    }\n",
       "\n",
       "    .dataframe thead th {\n",
       "        text-align: right;\n",
       "    }\n",
       "</style>\n",
       "<table border=\"1\" class=\"dataframe\">\n",
       "  <thead>\n",
       "    <tr style=\"text-align: right;\">\n",
       "      <th></th>\n",
       "      <th>name</th>\n",
       "      <th>2018</th>\n",
       "      <th>2019</th>\n",
       "      <th>increase 2018-2019</th>\n",
       "    </tr>\n",
       "  </thead>\n",
       "  <tbody>\n",
       "    <tr>\n",
       "      <th>0</th>\n",
       "      <td>NaN</td>\n",
       "      <td>NaN</td>\n",
       "      <td>NaN</td>\n",
       "      <td>NaN</td>\n",
       "    </tr>\n",
       "    <tr>\n",
       "      <th>1</th>\n",
       "      <td>Heile landet</td>\n",
       "      <td>5295619.0</td>\n",
       "      <td>5328212.0</td>\n",
       "      <td>0.6</td>\n",
       "    </tr>\n",
       "    <tr>\n",
       "      <th>2</th>\n",
       "      <td>NaN</td>\n",
       "      <td>NaN</td>\n",
       "      <td>NaN</td>\n",
       "      <td>NaN</td>\n",
       "    </tr>\n",
       "    <tr>\n",
       "      <th>3</th>\n",
       "      <td>01 Østfold</td>\n",
       "      <td>295420.0</td>\n",
       "      <td>297520.0</td>\n",
       "      <td>0.7</td>\n",
       "    </tr>\n",
       "    <tr>\n",
       "      <th>4</th>\n",
       "      <td>0101 Halden</td>\n",
       "      <td>31037.0</td>\n",
       "      <td>31177.0</td>\n",
       "      <td>0.5</td>\n",
       "    </tr>\n",
       "  </tbody>\n",
       "</table>\n",
       "</div>"
      ],
      "text/plain": [
       "           name       2018       2019  increase 2018-2019\n",
       "0           NaN        NaN        NaN                 NaN\n",
       "1  Heile landet  5295619.0  5328212.0                 0.6\n",
       "2           NaN        NaN        NaN                 NaN\n",
       "3    01 Østfold   295420.0   297520.0                 0.7\n",
       "4   0101 Halden    31037.0    31177.0                 0.5"
      ]
     },
     "execution_count": 10,
     "metadata": {},
     "output_type": "execute_result"
    }
   ],
   "source": [
    "population_data.head()"
   ]
  },
  {
   "cell_type": "markdown",
   "metadata": {},
   "source": [
    "There are some empty rows, so we will drop these. We will also drop all rows containing information about counties instead of municipalities, and also add an extra column with just the municipality code. Finally, we set this new column to be the index of the DataFrame."
   ]
  },
  {
   "cell_type": "code",
   "execution_count": 54,
   "metadata": {},
   "outputs": [],
   "source": [
    "population_data = population_data.dropna()\n",
    "population_data['code'] = population_data['name'].str.split().str[0]\n",
    "population_data = population_data[population_data['code'].str.len() == 4]\n",
    "population_data['code'] = population_data['code'].astype(int)\n",
    "population_data = population_data.set_index('code')"
   ]
  },
  {
   "cell_type": "code",
   "execution_count": 55,
   "metadata": {},
   "outputs": [
    {
     "data": {
      "text/html": [
       "<div>\n",
       "<style scoped>\n",
       "    .dataframe tbody tr th:only-of-type {\n",
       "        vertical-align: middle;\n",
       "    }\n",
       "\n",
       "    .dataframe tbody tr th {\n",
       "        vertical-align: top;\n",
       "    }\n",
       "\n",
       "    .dataframe thead th {\n",
       "        text-align: right;\n",
       "    }\n",
       "</style>\n",
       "<table border=\"1\" class=\"dataframe\">\n",
       "  <thead>\n",
       "    <tr style=\"text-align: right;\">\n",
       "      <th></th>\n",
       "      <th>name</th>\n",
       "      <th>2018</th>\n",
       "      <th>2019</th>\n",
       "      <th>increase 2018-2019</th>\n",
       "    </tr>\n",
       "    <tr>\n",
       "      <th>code</th>\n",
       "      <th></th>\n",
       "      <th></th>\n",
       "      <th></th>\n",
       "      <th></th>\n",
       "    </tr>\n",
       "  </thead>\n",
       "  <tbody>\n",
       "    <tr>\n",
       "      <th>101</th>\n",
       "      <td>0101 Halden</td>\n",
       "      <td>31037.0</td>\n",
       "      <td>31177.0</td>\n",
       "      <td>0.5</td>\n",
       "    </tr>\n",
       "    <tr>\n",
       "      <th>104</th>\n",
       "      <td>0104 Moss</td>\n",
       "      <td>32588.0</td>\n",
       "      <td>32726.0</td>\n",
       "      <td>0.4</td>\n",
       "    </tr>\n",
       "    <tr>\n",
       "      <th>105</th>\n",
       "      <td>0105 Sarpsborg</td>\n",
       "      <td>55543.0</td>\n",
       "      <td>55997.0</td>\n",
       "      <td>0.8</td>\n",
       "    </tr>\n",
       "    <tr>\n",
       "      <th>106</th>\n",
       "      <td>0106 Fredrikstad</td>\n",
       "      <td>80977.0</td>\n",
       "      <td>81772.0</td>\n",
       "      <td>1.0</td>\n",
       "    </tr>\n",
       "    <tr>\n",
       "      <th>111</th>\n",
       "      <td>0111 Hvaler</td>\n",
       "      <td>4540.0</td>\n",
       "      <td>4599.0</td>\n",
       "      <td>1.3</td>\n",
       "    </tr>\n",
       "  </tbody>\n",
       "</table>\n",
       "</div>"
      ],
      "text/plain": [
       "                  name     2018     2019  increase 2018-2019\n",
       "code                                                        \n",
       "101        0101 Halden  31037.0  31177.0                 0.5\n",
       "104          0104 Moss  32588.0  32726.0                 0.4\n",
       "105     0105 Sarpsborg  55543.0  55997.0                 0.8\n",
       "106   0106 Fredrikstad  80977.0  81772.0                 1.0\n",
       "111        0111 Hvaler   4540.0   4599.0                 1.3"
      ]
     },
     "execution_count": 55,
     "metadata": {},
     "output_type": "execute_result"
    }
   ],
   "source": [
    "population_data.head()"
   ]
  },
  {
   "cell_type": "markdown",
   "metadata": {},
   "source": [
    "Next up, we load the data necessary to retrieve a geographic location for each municipality."
   ]
  },
  {
   "cell_type": "code",
   "execution_count": 60,
   "metadata": {},
   "outputs": [],
   "source": [
    "mun_cover = pd.read_csv('http://hotell.difi.no/download/difi/etatsbasen/covers', sep=';', decimal=',', index_col='tailid')\n",
    "mun_position = pd.read_csv('http://hotell.difi.no/download/difi/etatsbasen/position', sep=';', decimal=',', index_col='tailid')"
   ]
  },
  {
   "cell_type": "code",
   "execution_count": 61,
   "metadata": {},
   "outputs": [
    {
     "data": {
      "text/html": [
       "<div>\n",
       "<style scoped>\n",
       "    .dataframe tbody tr th:only-of-type {\n",
       "        vertical-align: middle;\n",
       "    }\n",
       "\n",
       "    .dataframe tbody tr th {\n",
       "        vertical-align: top;\n",
       "    }\n",
       "\n",
       "    .dataframe thead th {\n",
       "        text-align: right;\n",
       "    }\n",
       "</style>\n",
       "<table border=\"1\" class=\"dataframe\">\n",
       "  <thead>\n",
       "    <tr style=\"text-align: right;\">\n",
       "      <th></th>\n",
       "      <th>geocode</th>\n",
       "    </tr>\n",
       "    <tr>\n",
       "      <th>tailid</th>\n",
       "      <th></th>\n",
       "    </tr>\n",
       "  </thead>\n",
       "  <tbody>\n",
       "    <tr>\n",
       "      <th>25304</th>\n",
       "      <td>428</td>\n",
       "    </tr>\n",
       "    <tr>\n",
       "      <th>25305</th>\n",
       "      <td>1835</td>\n",
       "    </tr>\n",
       "    <tr>\n",
       "      <th>25306</th>\n",
       "      <td>122</td>\n",
       "    </tr>\n",
       "    <tr>\n",
       "      <th>25308</th>\n",
       "      <td>800</td>\n",
       "    </tr>\n",
       "    <tr>\n",
       "      <th>25311</th>\n",
       "      <td>1121</td>\n",
       "    </tr>\n",
       "  </tbody>\n",
       "</table>\n",
       "</div>"
      ],
      "text/plain": [
       "        geocode\n",
       "tailid         \n",
       "25304       428\n",
       "25305      1835\n",
       "25306       122\n",
       "25308       800\n",
       "25311      1121"
      ]
     },
     "execution_count": 61,
     "metadata": {},
     "output_type": "execute_result"
    }
   ],
   "source": [
    "mun_cover.head()"
   ]
  },
  {
   "cell_type": "code",
   "execution_count": 62,
   "metadata": {},
   "outputs": [
    {
     "data": {
      "text/plain": [
       "(15759, 1)"
      ]
     },
     "execution_count": 62,
     "metadata": {},
     "output_type": "execute_result"
    }
   ],
   "source": [
    "mun_cover.shape"
   ]
  },
  {
   "cell_type": "code",
   "execution_count": 63,
   "metadata": {},
   "outputs": [
    {
     "data": {
      "text/html": [
       "<div>\n",
       "<style scoped>\n",
       "    .dataframe tbody tr th:only-of-type {\n",
       "        vertical-align: middle;\n",
       "    }\n",
       "\n",
       "    .dataframe tbody tr th {\n",
       "        vertical-align: top;\n",
       "    }\n",
       "\n",
       "    .dataframe thead th {\n",
       "        text-align: right;\n",
       "    }\n",
       "</style>\n",
       "<table border=\"1\" class=\"dataframe\">\n",
       "  <thead>\n",
       "    <tr style=\"text-align: right;\">\n",
       "      <th></th>\n",
       "      <th>coordsys</th>\n",
       "      <th>x</th>\n",
       "      <th>y</th>\n",
       "      <th>z</th>\n",
       "    </tr>\n",
       "    <tr>\n",
       "      <th>tailid</th>\n",
       "      <th></th>\n",
       "      <th></th>\n",
       "      <th></th>\n",
       "      <th></th>\n",
       "    </tr>\n",
       "  </thead>\n",
       "  <tbody>\n",
       "    <tr>\n",
       "      <th>25348</th>\n",
       "      <td>utm33</td>\n",
       "      <td>46374.0</td>\n",
       "      <td>6954209.0</td>\n",
       "      <td>NaN</td>\n",
       "    </tr>\n",
       "    <tr>\n",
       "      <th>25349</th>\n",
       "      <td>utm33</td>\n",
       "      <td>5455.0</td>\n",
       "      <td>6626756.0</td>\n",
       "      <td>NaN</td>\n",
       "    </tr>\n",
       "    <tr>\n",
       "      <th>25350</th>\n",
       "      <td>utm33</td>\n",
       "      <td>-47807.0</td>\n",
       "      <td>6722869.0</td>\n",
       "      <td>NaN</td>\n",
       "    </tr>\n",
       "    <tr>\n",
       "      <th>25352</th>\n",
       "      <td>utm33</td>\n",
       "      <td>44123.0</td>\n",
       "      <td>6957977.0</td>\n",
       "      <td>NaN</td>\n",
       "    </tr>\n",
       "    <tr>\n",
       "      <th>25353</th>\n",
       "      <td>utm33</td>\n",
       "      <td>182280.0</td>\n",
       "      <td>6998344.0</td>\n",
       "      <td>NaN</td>\n",
       "    </tr>\n",
       "  </tbody>\n",
       "</table>\n",
       "</div>"
      ],
      "text/plain": [
       "       coordsys         x          y   z\n",
       "tailid                                  \n",
       "25348     utm33   46374.0  6954209.0 NaN\n",
       "25349     utm33    5455.0  6626756.0 NaN\n",
       "25350     utm33  -47807.0  6722869.0 NaN\n",
       "25352     utm33   44123.0  6957977.0 NaN\n",
       "25353     utm33  182280.0  6998344.0 NaN"
      ]
     },
     "execution_count": 63,
     "metadata": {},
     "output_type": "execute_result"
    }
   ],
   "source": [
    "mun_position.head()"
   ]
  },
  {
   "cell_type": "markdown",
   "metadata": {},
   "source": [
    "We can then join all DataFrames together to get a new DataFrame with population and geographical locations for all municipalities in Norway."
   ]
  },
  {
   "cell_type": "code",
   "execution_count": 64,
   "metadata": {},
   "outputs": [],
   "source": [
    "mun_positions = mun_cover.join(mun_position)"
   ]
  },
  {
   "cell_type": "code",
   "execution_count": 65,
   "metadata": {},
   "outputs": [
    {
     "data": {
      "text/html": [
       "<div>\n",
       "<style scoped>\n",
       "    .dataframe tbody tr th:only-of-type {\n",
       "        vertical-align: middle;\n",
       "    }\n",
       "\n",
       "    .dataframe tbody tr th {\n",
       "        vertical-align: top;\n",
       "    }\n",
       "\n",
       "    .dataframe thead th {\n",
       "        text-align: right;\n",
       "    }\n",
       "</style>\n",
       "<table border=\"1\" class=\"dataframe\">\n",
       "  <thead>\n",
       "    <tr style=\"text-align: right;\">\n",
       "      <th></th>\n",
       "      <th>geocode</th>\n",
       "      <th>coordsys</th>\n",
       "      <th>x</th>\n",
       "      <th>y</th>\n",
       "      <th>z</th>\n",
       "    </tr>\n",
       "    <tr>\n",
       "      <th>tailid</th>\n",
       "      <th></th>\n",
       "      <th></th>\n",
       "      <th></th>\n",
       "      <th></th>\n",
       "      <th></th>\n",
       "    </tr>\n",
       "  </thead>\n",
       "  <tbody>\n",
       "    <tr>\n",
       "      <th>20504</th>\n",
       "      <td>301</td>\n",
       "      <td>NaN</td>\n",
       "      <td>NaN</td>\n",
       "      <td>NaN</td>\n",
       "      <td>NaN</td>\n",
       "    </tr>\n",
       "    <tr>\n",
       "      <th>20518</th>\n",
       "      <td>301</td>\n",
       "      <td>NaN</td>\n",
       "      <td>NaN</td>\n",
       "      <td>NaN</td>\n",
       "      <td>NaN</td>\n",
       "    </tr>\n",
       "    <tr>\n",
       "      <th>20537</th>\n",
       "      <td>301</td>\n",
       "      <td>utm33</td>\n",
       "      <td>262127.0</td>\n",
       "      <td>6649664.0</td>\n",
       "      <td>NaN</td>\n",
       "    </tr>\n",
       "    <tr>\n",
       "      <th>20605</th>\n",
       "      <td>1903</td>\n",
       "      <td>utm33</td>\n",
       "      <td>562319.0</td>\n",
       "      <td>7632932.0</td>\n",
       "      <td>NaN</td>\n",
       "    </tr>\n",
       "    <tr>\n",
       "      <th>20605</th>\n",
       "      <td>1917</td>\n",
       "      <td>utm33</td>\n",
       "      <td>562319.0</td>\n",
       "      <td>7632932.0</td>\n",
       "      <td>NaN</td>\n",
       "    </tr>\n",
       "  </tbody>\n",
       "</table>\n",
       "</div>"
      ],
      "text/plain": [
       "        geocode coordsys         x          y   z\n",
       "tailid                                           \n",
       "20504       301      NaN       NaN        NaN NaN\n",
       "20518       301      NaN       NaN        NaN NaN\n",
       "20537       301    utm33  262127.0  6649664.0 NaN\n",
       "20605      1903    utm33  562319.0  7632932.0 NaN\n",
       "20605      1917    utm33  562319.0  7632932.0 NaN"
      ]
     },
     "execution_count": 65,
     "metadata": {},
     "output_type": "execute_result"
    }
   ],
   "source": [
    "mun_positions.head()"
   ]
  },
  {
   "cell_type": "markdown",
   "metadata": {},
   "source": [
    "We depend on the coordinates, so we will drop all rows with missing x or y values."
   ]
  },
  {
   "cell_type": "code",
   "execution_count": 70,
   "metadata": {},
   "outputs": [],
   "source": [
    "mun_positions = mun_positions[mun_positions['x'].notna()]"
   ]
  },
  {
   "cell_type": "markdown",
   "metadata": {},
   "source": [
    "We only need a single service from each municipality to retrieve a position, so we will drop all duplicates on the geocode field."
   ]
  },
  {
   "cell_type": "code",
   "execution_count": 72,
   "metadata": {},
   "outputs": [
    {
     "data": {
      "text/plain": [
       "(452, 5)"
      ]
     },
     "execution_count": 72,
     "metadata": {},
     "output_type": "execute_result"
    }
   ],
   "source": [
    "mun_positions = mun_positions.drop_duplicates('geocode')\n",
    "mun_positions.shape"
   ]
  },
  {
   "cell_type": "markdown",
   "metadata": {},
   "source": [
    "We can then join this new DataFrame with the one containing population data:"
   ]
  },
  {
   "cell_type": "code",
   "execution_count": 73,
   "metadata": {},
   "outputs": [],
   "source": [
    "all_data = mun_positions.join(population_data, on='geocode')"
   ]
  },
  {
   "cell_type": "code",
   "execution_count": 74,
   "metadata": {},
   "outputs": [
    {
     "data": {
      "text/plain": [
       "(452, 9)"
      ]
     },
     "execution_count": 74,
     "metadata": {},
     "output_type": "execute_result"
    }
   ],
   "source": [
    "all_data.shape"
   ]
  },
  {
   "cell_type": "code",
   "execution_count": 75,
   "metadata": {},
   "outputs": [
    {
     "data": {
      "text/html": [
       "<div>\n",
       "<style scoped>\n",
       "    .dataframe tbody tr th:only-of-type {\n",
       "        vertical-align: middle;\n",
       "    }\n",
       "\n",
       "    .dataframe tbody tr th {\n",
       "        vertical-align: top;\n",
       "    }\n",
       "\n",
       "    .dataframe thead th {\n",
       "        text-align: right;\n",
       "    }\n",
       "</style>\n",
       "<table border=\"1\" class=\"dataframe\">\n",
       "  <thead>\n",
       "    <tr style=\"text-align: right;\">\n",
       "      <th></th>\n",
       "      <th>geocode</th>\n",
       "      <th>coordsys</th>\n",
       "      <th>x</th>\n",
       "      <th>y</th>\n",
       "      <th>z</th>\n",
       "      <th>name</th>\n",
       "      <th>2018</th>\n",
       "      <th>2019</th>\n",
       "      <th>increase 2018-2019</th>\n",
       "    </tr>\n",
       "    <tr>\n",
       "      <th>tailid</th>\n",
       "      <th></th>\n",
       "      <th></th>\n",
       "      <th></th>\n",
       "      <th></th>\n",
       "      <th></th>\n",
       "      <th></th>\n",
       "      <th></th>\n",
       "      <th></th>\n",
       "      <th></th>\n",
       "    </tr>\n",
       "  </thead>\n",
       "  <tbody>\n",
       "    <tr>\n",
       "      <th>20537</th>\n",
       "      <td>301</td>\n",
       "      <td>utm33</td>\n",
       "      <td>262127.0</td>\n",
       "      <td>6649664.0</td>\n",
       "      <td>NaN</td>\n",
       "      <td>0301 Oslo kommune</td>\n",
       "      <td>673469.0</td>\n",
       "      <td>681071.0</td>\n",
       "      <td>1.1</td>\n",
       "    </tr>\n",
       "    <tr>\n",
       "      <th>20605</th>\n",
       "      <td>1903</td>\n",
       "      <td>utm33</td>\n",
       "      <td>562319.0</td>\n",
       "      <td>7632932.0</td>\n",
       "      <td>NaN</td>\n",
       "      <td>1903 Harstad - Hárstták</td>\n",
       "      <td>24820.0</td>\n",
       "      <td>24827.0</td>\n",
       "      <td>0.0</td>\n",
       "    </tr>\n",
       "    <tr>\n",
       "      <th>20605</th>\n",
       "      <td>1917</td>\n",
       "      <td>utm33</td>\n",
       "      <td>562319.0</td>\n",
       "      <td>7632932.0</td>\n",
       "      <td>NaN</td>\n",
       "      <td>1917 Ibestad</td>\n",
       "      <td>1380.0</td>\n",
       "      <td>1375.0</td>\n",
       "      <td>-0.4</td>\n",
       "    </tr>\n",
       "    <tr>\n",
       "      <th>20605</th>\n",
       "      <td>1911</td>\n",
       "      <td>utm33</td>\n",
       "      <td>562319.0</td>\n",
       "      <td>7632932.0</td>\n",
       "      <td>NaN</td>\n",
       "      <td>1911 Kvæfjord</td>\n",
       "      <td>2928.0</td>\n",
       "      <td>2858.0</td>\n",
       "      <td>-2.4</td>\n",
       "    </tr>\n",
       "    <tr>\n",
       "      <th>20605</th>\n",
       "      <td>1913</td>\n",
       "      <td>utm33</td>\n",
       "      <td>562319.0</td>\n",
       "      <td>7632932.0</td>\n",
       "      <td>NaN</td>\n",
       "      <td>1913 Skånland</td>\n",
       "      <td>2994.0</td>\n",
       "      <td>3009.0</td>\n",
       "      <td>0.5</td>\n",
       "    </tr>\n",
       "  </tbody>\n",
       "</table>\n",
       "</div>"
      ],
      "text/plain": [
       "        geocode coordsys         x          y   z                     name  \\\n",
       "tailid                                                                       \n",
       "20537       301    utm33  262127.0  6649664.0 NaN        0301 Oslo kommune   \n",
       "20605      1903    utm33  562319.0  7632932.0 NaN  1903 Harstad - Hárstták   \n",
       "20605      1917    utm33  562319.0  7632932.0 NaN             1917 Ibestad   \n",
       "20605      1911    utm33  562319.0  7632932.0 NaN            1911 Kvæfjord   \n",
       "20605      1913    utm33  562319.0  7632932.0 NaN            1913 Skånland   \n",
       "\n",
       "            2018      2019  increase 2018-2019  \n",
       "tailid                                          \n",
       "20537   673469.0  681071.0                 1.1  \n",
       "20605    24820.0   24827.0                 0.0  \n",
       "20605     1380.0    1375.0                -0.4  \n",
       "20605     2928.0    2858.0                -2.4  \n",
       "20605     2994.0    3009.0                 0.5  "
      ]
     },
     "execution_count": 75,
     "metadata": {},
     "output_type": "execute_result"
    }
   ],
   "source": [
    "all_data.head()"
   ]
  },
  {
   "cell_type": "markdown",
   "metadata": {},
   "source": [
    "We do a quick check for missing values on the necessary columns:"
   ]
  },
  {
   "cell_type": "code",
   "execution_count": 76,
   "metadata": {},
   "outputs": [
    {
     "name": "stdout",
     "output_type": "stream",
     "text": [
      "Missing x: 0, missing y: 0, missing population: 82\n"
     ]
    }
   ],
   "source": [
    "na_info = all_data.isna()\n",
    "missing_x = na_info['x'].sum()\n",
    "missing_y = na_info['y'].sum()\n",
    "missing_pop = na_info['2019'].sum()\n",
    "print(f'Missing x: {missing_x}, missing y: {missing_y}, missing population: {missing_pop}')"
   ]
  },
  {
   "cell_type": "markdown",
   "metadata": {},
   "source": [
    "We are actually missing some population data. We check how many of these are also missing population data from 2018:"
   ]
  },
  {
   "cell_type": "code",
   "execution_count": 77,
   "metadata": {},
   "outputs": [
    {
     "data": {
      "text/plain": [
       "82"
      ]
     },
     "execution_count": 77,
     "metadata": {},
     "output_type": "execute_result"
    }
   ],
   "source": [
    "(na_info['2019'] & na_info['2018']).sum()"
   ]
  },
  {
   "cell_type": "markdown",
   "metadata": {},
   "source": [
    "It appears all these rows miss population data for both years. We should probably have a look at these rows."
   ]
  },
  {
   "cell_type": "code",
   "execution_count": 78,
   "metadata": {},
   "outputs": [
    {
     "data": {
      "text/html": [
       "<div>\n",
       "<style scoped>\n",
       "    .dataframe tbody tr th:only-of-type {\n",
       "        vertical-align: middle;\n",
       "    }\n",
       "\n",
       "    .dataframe tbody tr th {\n",
       "        vertical-align: top;\n",
       "    }\n",
       "\n",
       "    .dataframe thead th {\n",
       "        text-align: right;\n",
       "    }\n",
       "</style>\n",
       "<table border=\"1\" class=\"dataframe\">\n",
       "  <thead>\n",
       "    <tr style=\"text-align: right;\">\n",
       "      <th></th>\n",
       "      <th>geocode</th>\n",
       "      <th>coordsys</th>\n",
       "      <th>x</th>\n",
       "      <th>y</th>\n",
       "      <th>z</th>\n",
       "      <th>name</th>\n",
       "      <th>2018</th>\n",
       "      <th>2019</th>\n",
       "      <th>increase 2018-2019</th>\n",
       "    </tr>\n",
       "    <tr>\n",
       "      <th>tailid</th>\n",
       "      <th></th>\n",
       "      <th></th>\n",
       "      <th></th>\n",
       "      <th></th>\n",
       "      <th></th>\n",
       "      <th></th>\n",
       "      <th></th>\n",
       "      <th></th>\n",
       "      <th></th>\n",
       "    </tr>\n",
       "  </thead>\n",
       "  <tbody>\n",
       "    <tr>\n",
       "      <th>20606</th>\n",
       "      <td>2111</td>\n",
       "      <td>utm33</td>\n",
       "      <td>653350.0</td>\n",
       "      <td>7731850.0</td>\n",
       "      <td>NaN</td>\n",
       "      <td>NaN</td>\n",
       "      <td>NaN</td>\n",
       "      <td>NaN</td>\n",
       "      <td>NaN</td>\n",
       "    </tr>\n",
       "    <tr>\n",
       "      <th>20632</th>\n",
       "      <td>1567</td>\n",
       "      <td>utm33</td>\n",
       "      <td>133701.0</td>\n",
       "      <td>7018720.0</td>\n",
       "      <td>NaN</td>\n",
       "      <td>NaN</td>\n",
       "      <td>NaN</td>\n",
       "      <td>NaN</td>\n",
       "      <td>NaN</td>\n",
       "    </tr>\n",
       "    <tr>\n",
       "      <th>20634</th>\n",
       "      <td>1702</td>\n",
       "      <td>utm33</td>\n",
       "      <td>317368.0</td>\n",
       "      <td>7073854.0</td>\n",
       "      <td>NaN</td>\n",
       "      <td>NaN</td>\n",
       "      <td>NaN</td>\n",
       "      <td>NaN</td>\n",
       "      <td>NaN</td>\n",
       "    </tr>\n",
       "    <tr>\n",
       "      <th>20634</th>\n",
       "      <td>1756</td>\n",
       "      <td>utm33</td>\n",
       "      <td>317368.0</td>\n",
       "      <td>7073854.0</td>\n",
       "      <td>NaN</td>\n",
       "      <td>NaN</td>\n",
       "      <td>NaN</td>\n",
       "      <td>NaN</td>\n",
       "      <td>NaN</td>\n",
       "    </tr>\n",
       "    <tr>\n",
       "      <th>20634</th>\n",
       "      <td>1721</td>\n",
       "      <td>utm33</td>\n",
       "      <td>317368.0</td>\n",
       "      <td>7073854.0</td>\n",
       "      <td>NaN</td>\n",
       "      <td>NaN</td>\n",
       "      <td>NaN</td>\n",
       "      <td>NaN</td>\n",
       "      <td>NaN</td>\n",
       "    </tr>\n",
       "  </tbody>\n",
       "</table>\n",
       "</div>"
      ],
      "text/plain": [
       "        geocode coordsys         x          y   z name  2018  2019  \\\n",
       "tailid                                                               \n",
       "20606      2111    utm33  653350.0  7731850.0 NaN  NaN   NaN   NaN   \n",
       "20632      1567    utm33  133701.0  7018720.0 NaN  NaN   NaN   NaN   \n",
       "20634      1702    utm33  317368.0  7073854.0 NaN  NaN   NaN   NaN   \n",
       "20634      1756    utm33  317368.0  7073854.0 NaN  NaN   NaN   NaN   \n",
       "20634      1721    utm33  317368.0  7073854.0 NaN  NaN   NaN   NaN   \n",
       "\n",
       "        increase 2018-2019  \n",
       "tailid                      \n",
       "20606                  NaN  \n",
       "20632                  NaN  \n",
       "20634                  NaN  \n",
       "20634                  NaN  \n",
       "20634                  NaN  "
      ]
     },
     "execution_count": 78,
     "metadata": {},
     "output_type": "execute_result"
    }
   ],
   "source": [
    "missing_pop_df = all_data[na_info['2019'] & na_info['2018']]\n",
    "missing_pop_df.head()"
   ]
  },
  {
   "cell_type": "markdown",
   "metadata": {},
   "source": [
    "These rows miss all values from the population data set, so clearly they are totally missing from this set. They might be municipalities that no longer exist, or simple errors in the data. Either way, we will drop these rows."
   ]
  },
  {
   "cell_type": "code",
   "execution_count": 79,
   "metadata": {},
   "outputs": [],
   "source": [
    "all_data = all_data[all_data['2019'].notna()]"
   ]
  },
  {
   "cell_type": "code",
   "execution_count": 80,
   "metadata": {},
   "outputs": [
    {
     "data": {
      "text/plain": [
       "(370, 9)"
      ]
     },
     "execution_count": 80,
     "metadata": {},
     "output_type": "execute_result"
    }
   ],
   "source": [
    "all_data.shape"
   ]
  },
  {
   "cell_type": "markdown",
   "metadata": {},
   "source": [
    "The new number of municipalities is correct according to the number of municipalities in Norway after the recent reforms."
   ]
  },
  {
   "cell_type": "markdown",
   "metadata": {},
   "source": [
    "We now have all the data we need to actually perform our calculations. The calculation will simply entail finding the weighted average position in both coordinate axes."
   ]
  },
  {
   "cell_type": "code",
   "execution_count": 82,
   "metadata": {},
   "outputs": [
    {
     "name": "stdout",
     "output_type": "stream",
     "text": [
      "Norwegian population center: (212542.93, 6790470.55)\n"
     ]
    }
   ],
   "source": [
    "total_pop = all_data['2019'].sum()\n",
    "x = (all_data['x'] * all_data['2019']).sum() / total_pop\n",
    "y = (all_data['y'] * all_data['2019']).sum() / total_pop\n",
    "\n",
    "print(f'Norwegian population center (UTM33): ({x:.2f}, {y:.2f})')"
   ]
  },
  {
   "cell_type": "markdown",
   "metadata": {},
   "source": [
    "The coordinates are UTM coordinates based on zone 33, which sounds cryptic and is hard to understand. Luckily, there exists a small python library for doing the conversion, so that we don't need to learn the necessary formulas."
   ]
  },
  {
   "cell_type": "code",
   "execution_count": 91,
   "metadata": {},
   "outputs": [
    {
     "name": "stdout",
     "output_type": "stream",
     "text": [
      "Norwegian population center (WGS84): 61.14303N 9.65700E\n"
     ]
    }
   ],
   "source": [
    "lat, long = utm.to_latlon(x, y, 33, 'T')\n",
    "print(f'Norwegian population center (WGS84): {lat:.5f}N {long:.5f}E')"
   ]
  },
  {
   "cell_type": "markdown",
   "metadata": {},
   "source": [
    "Below, we generate a link to open this position directly in Google Maps:"
   ]
  },
  {
   "cell_type": "code",
   "execution_count": 92,
   "metadata": {},
   "outputs": [
    {
     "name": "stdout",
     "output_type": "stream",
     "text": [
      "https://www.google.com/maps/place/61.14303491940368,9.657001899409641\n"
     ]
    }
   ],
   "source": [
    "print(f'https://www.google.com/maps/place/{lat},{long}')"
   ]
  }
 ],
 "metadata": {
  "kernelspec": {
   "display_name": "Python 3",
   "language": "python",
   "name": "python3"
  },
  "language_info": {
   "codemirror_mode": {
    "name": "ipython",
    "version": 3
   },
   "file_extension": ".py",
   "mimetype": "text/x-python",
   "name": "python",
   "nbconvert_exporter": "python",
   "pygments_lexer": "ipython3",
   "version": "3.7.0"
  }
 },
 "nbformat": 4,
 "nbformat_minor": 2
}
